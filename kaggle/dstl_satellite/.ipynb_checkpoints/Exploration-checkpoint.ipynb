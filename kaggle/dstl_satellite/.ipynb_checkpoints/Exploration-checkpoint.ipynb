{
 "cells": [
  {
   "cell_type": "code",
   "execution_count": null,
   "metadata": {
    "collapsed": false
   },
   "outputs": [],
   "source": [
    "import requests\n",
    "import zipfile\n",
    "import os\n",
    "\n",
    "data_url = 'https://www.kaggle.com/c/dstl-satellite-imagery-feature-detection/download/'\n",
    "data_path = \"data/\"\n",
    "files = {\n",
    "    \"sample_submission.csv.zip\" : \"sample_submission.csv.zip\",\n",
    "    \"grid_sizes.csv.zip\" : \"grid_sizes.csv.zip\",\n",
    "    #sixteen_band is 7 GB\n",
    "    \"sixteen_band.zip\" : \"sixteen_band.zip\",\n",
    "    #three_band is 13 GB\n",
    "    \"three_band.zip\" : \"three_band.zip\",\n",
    "    \"train_geojson_v3.zip\" : \"train_geojson_v3.zip\",\n",
    "    \"train_wkt_v4.csv.zip\" : \"train_wkt_v4.csv.zip\"\n",
    "    }\n",
    "\n",
    "delete_folders = {\"__MACOSX\"}\n",
    "\n",
    "# Kaggle Username and Password\n",
    "kaggle_info = {'UserName': \"jakewalker\", 'Password': \"kaggle_Do_nO_haRm_please\"}\n",
    "\n",
    "for entry in files.keys():    \n",
    "    # Attempts to download the CSV file. Gets rejected if we are not logged in.\n",
    "    request_url = data_url + entry\n",
    "    r = requests.get(request_url)\n",
    "\n",
    "    print(\"downloading \" + entry + \"...\")\n",
    "    # Login to Kaggle and retrieve the data.\n",
    "    r = requests.post(r.url, data = kaggle_info)\n",
    "    \n",
    "    # Writes the data to a local file one chunk at a time.\n",
    "    f = open(data_path + files[entry], 'w')\n",
    "    for chunk in r.iter_content(chunk_size = 512 * 1024): # Reads 512KB at a time into memory\n",
    "        if chunk: # filter out keep-alive new chunks\n",
    "            f.write(chunk)\n",
    "    f.close()\n",
    "    #unzip file\n",
    "    print(\"unzipping...\")\n",
    "    with zipfile.ZipFile(data_path + files[entry]) as myzip:\n",
    "        myzip.extractall(path=data_path)\n",
    "        \n",
    "    #delte the zip file\n",
    "    print(\"deleting zip file...\")\n",
    "    os.remove(data_path + files[entry])\n",
    "\n",
    "for folder in delete_folders:\n",
    "    print(\"removing \" + folder + \"...\")\n",
    "    try:\n",
    "        os.rmdir(data_path + folder)\n",
    "    except (OSError):\n",
    "        print(\"failed to delete\")\n",
    "        \n",
    "print(\"done\")\n",
    "    "
   ]
  },
  {
   "cell_type": "code",
   "execution_count": 3,
   "metadata": {
    "collapsed": false
   },
   "outputs": [
    {
     "name": "stdout",
     "output_type": "stream",
     "text": [
      "goodbye world\n"
     ]
    }
   ],
   "source": [
    "print(\"goodbye world\")"
   ]
  },
  {
   "cell_type": "markdown",
   "metadata": {},
   "source": [
    "# Download The Data\n",
    "\n",
    "Here's my cell markdown\n",
    "\n",
    "## secondary heading\n",
    "\n",
    "$$c = \\sqrt{a^2 + b^2}$$"
   ]
  },
  {
   "cell_type": "code",
   "execution_count": null,
   "metadata": {
    "collapsed": true
   },
   "outputs": [],
   "source": []
  }
 ],
 "metadata": {
  "kernelspec": {
   "display_name": "Python 2",
   "language": "python",
   "name": "python2"
  },
  "language_info": {
   "codemirror_mode": {
    "name": "ipython",
    "version": 2
   },
   "file_extension": ".py",
   "mimetype": "text/x-python",
   "name": "python",
   "nbconvert_exporter": "python",
   "pygments_lexer": "ipython2",
   "version": "2.7.11"
  }
 },
 "nbformat": 4,
 "nbformat_minor": 0
}
